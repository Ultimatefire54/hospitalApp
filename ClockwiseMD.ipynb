{
 "cells": [
  {
   "cell_type": "code",
   "execution_count": 1,
   "metadata": {},
   "outputs": [],
   "source": [
    "import re, requests, json, pandas as pd\n",
    "from bs4 import BeautifulSoup as bs\n",
    "from pprint import pprint\n",
    "\n",
    "with open(\"states.txt\") as states:\n",
    "    statelist = [state for state in states.read().splitlines()]"
   ]
  },
  {
   "cell_type": "code",
   "execution_count": 2,
   "metadata": {},
   "outputs": [
    {
     "name": "stdout",
     "output_type": "stream",
     "text": [
      "None\n",
      "{'current_wait': 'N/A',\n",
      " 'next_available_visit': 'N/A',\n",
      " 'queue_length': 0,\n",
      " 'queue_total': 0}\n"
     ]
    }
   ],
   "source": [
    "ID = 74 # test hospital\n",
    "\n",
    "def searchDict(dictionary, value, term):\n",
    "    keys = []\n",
    "    items = dictionary.items()\n",
    "    for item  in items:\n",
    "        if item[1][term] == value:\n",
    "            keys.append(item[0])\n",
    "    return keys\n",
    "\n",
    "def waitTime(hospitalID):\n",
    "    query_address = \"https://api.clockwisemd.com/v1/hospitals/\"+str(hospitalID)+\"/waits\"\n",
    "    api_call = requests.get(query_address)\n",
    "    data = json.loads(api_call.content)\n",
    "    return data['hospital_waits']\n",
    "\n",
    "def hospitalInfo(hospitalID):\n",
    "    try:\n",
    "        link = \"https://www.clockwisemd.com/hospitals/\"+str(hospitalID)+\"/unavailable\"\n",
    "        page = requests.get(link)\n",
    "        soup = bs(page.content, 'html.parser')\n",
    "        data = soup.find_all('h4')\n",
    "        name = data[0].get_text()\n",
    "        city, etc = data[3].get_text().split(\", \")\n",
    "        state, zipcode = etc.split()\n",
    "        info = {'name':name,'address':data[1].get_text(),'city':city,'state':state,'zip':zipcode}\n",
    "        if \"DEACTIVATED\" in name.upper() or \"DEMO\" in name.upper():\n",
    "            return \"Inactive clinic\"\n",
    "        else:\n",
    "            return(info)\n",
    "    except:\n",
    "        return None\n",
    "pprint(hospitalInfo(ID))\n",
    "pprint(waitTime(ID))"
   ]
  },
  {
   "cell_type": "code",
   "execution_count": 3,
   "metadata": {},
   "outputs": [
    {
     "name": "stdout",
     "output_type": "stream",
     "text": [
      "Hospital ID #5029 added."
     ]
    }
   ],
   "source": [
    "master = {}\n",
    "for i in range(1,5030):\n",
    "    info = hospitalInfo(i)\n",
    "    if type(info) is dict:\n",
    "        master[info['name']] = {'id':i,'address':info['address'],'city':info['city'],'state':info['state'],'zip':info['zip']}\n",
    "        print(\"\", end=\"\\rHospital ID #{} added.\".format(i))"
   ]
  },
  {
   "cell_type": "code",
   "execution_count": 8,
   "metadata": {},
   "outputs": [],
   "source": [
    "organized = {}\n",
    "for state in statelist:\n",
    "    statezips = []\n",
    "    for hospital, info in master.items():\n",
    "        if info['state'] == state and info['zip'] not in statezips:\n",
    "            statezips.append(info['zip'])\n",
    "    organized[state] = {}\n",
    "    for zipcode in statezips:\n",
    "        inzip = {}\n",
    "        for hospital, info in master.items():\n",
    "            if info['zip'] == zipcode:\n",
    "                inzip[hospital] = master[hospital]\n",
    "        organized[state][zipcode] = inzip"
   ]
  },
  {
   "cell_type": "code",
   "execution_count": 9,
   "metadata": {},
   "outputs": [],
   "source": [
    "jsondata = json.dumps(organized, sort_keys=True, indent=3)\n",
    "with open('hospitals.json','w+') as file:\n",
    "    file.write(jsondata)"
   ]
  },
  {
   "cell_type": "code",
   "execution_count": null,
   "metadata": {},
   "outputs": [],
   "source": []
  }
 ],
 "metadata": {
  "kernelspec": {
   "display_name": "Python 3",
   "language": "python",
   "name": "python3"
  },
  "language_info": {
   "codemirror_mode": {
    "name": "ipython",
    "version": 3
   },
   "file_extension": ".py",
   "mimetype": "text/x-python",
   "name": "python",
   "nbconvert_exporter": "python",
   "pygments_lexer": "ipython3",
   "version": "3.6.6"
  }
 },
 "nbformat": 4,
 "nbformat_minor": 2
}
