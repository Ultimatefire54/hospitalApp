{
 "cells": [
  {
   "cell_type": "code",
   "execution_count": 111,
   "metadata": {},
   "outputs": [
    {
     "name": "stdout",
     "output_type": "stream",
     "text": [
      "<td class=\"bigstat\">2h 55m</td>\n",
      "\n",
      "175\n",
      "2 55m\n",
      "<td class=\"bigstat\">3h 4m</td>\n",
      "\n",
      "184\n",
      "3 4m\n",
      "<td class=\"bigstat\">3h 31m</td>\n",
      "\n",
      "211\n",
      "3 31m\n",
      "<td class=\"bigstat\">3h 35m</td>\n",
      "\n",
      "215\n",
      "3 35m\n",
      "<td class=\"bigstat\">3h 36m</td>\n",
      "\n",
      "216\n",
      "3 36m\n",
      "<td class=\"bigstat\">3h 47m</td>\n",
      "\n",
      "227\n",
      "3 47m\n",
      "<td class=\"bigstat\">3h 50m</td>\n",
      "\n",
      "230\n",
      "3 50m\n",
      "<td class=\"bigstat\">3h 56m</td>\n",
      "\n",
      "236\n",
      "3 56m\n",
      "<td class=\"bigstat\">4h 16m</td>\n",
      "\n",
      "256\n",
      "4 16m\n",
      "<td class=\"bigstat\">5h 8m</td>\n",
      "\n",
      "308\n",
      "5 8m\n",
      "<td class=\"bigstat\">5h 22m</td>\n",
      "\n",
      "322\n",
      "5 22m\n",
      "<td class=\"bigstat\">5h 44m</td>\n",
      "\n",
      "344\n",
      "5 44m\n",
      "<td class=\"bigstat\">N/A</td>\n",
      "\n"
     ]
    },
    {
     "ename": "ValueError",
     "evalue": "invalid literal for int() with base 10: 'N/A'",
     "output_type": "error",
     "traceback": [
      "\u001b[1;31m---------------------------------------------------------------------------\u001b[0m",
      "\u001b[1;31mValueError\u001b[0m                                Traceback (most recent call last)",
      "\u001b[1;32m<ipython-input-111-66a6725768d1>\u001b[0m in \u001b[0;36m<module>\u001b[1;34m\u001b[0m\n\u001b[0;32m     25\u001b[0m     \u001b[0mtimeText\u001b[0m \u001b[1;33m=\u001b[0m \u001b[0mtimeElem\u001b[0m\u001b[1;33m.\u001b[0m\u001b[0mget_text\u001b[0m\u001b[1;33m(\u001b[0m\u001b[1;33m)\u001b[0m\u001b[1;33m.\u001b[0m\u001b[0mreplace\u001b[0m\u001b[1;33m(\u001b[0m\u001b[1;34m'h'\u001b[0m\u001b[1;33m,\u001b[0m \u001b[1;34m''\u001b[0m\u001b[1;33m)\u001b[0m\u001b[1;33m\u001b[0m\u001b[1;33m\u001b[0m\u001b[0m\n\u001b[0;32m     26\u001b[0m     \u001b[0mhrMin\u001b[0m \u001b[1;33m=\u001b[0m \u001b[0mtimeText\u001b[0m\u001b[1;33m.\u001b[0m\u001b[0mreplace\u001b[0m\u001b[1;33m(\u001b[0m\u001b[1;34m'm'\u001b[0m\u001b[1;33m,\u001b[0m \u001b[1;34m''\u001b[0m\u001b[1;33m)\u001b[0m\u001b[1;33m.\u001b[0m\u001b[0msplit\u001b[0m\u001b[1;33m(\u001b[0m\u001b[1;34m' '\u001b[0m\u001b[1;33m)\u001b[0m\u001b[1;33m\u001b[0m\u001b[1;33m\u001b[0m\u001b[0m\n\u001b[1;32m---> 27\u001b[1;33m     \u001b[0mtotalMin\u001b[0m \u001b[1;33m=\u001b[0m \u001b[1;33m(\u001b[0m\u001b[0mint\u001b[0m\u001b[1;33m(\u001b[0m\u001b[0mhrMin\u001b[0m\u001b[1;33m[\u001b[0m\u001b[1;36m0\u001b[0m\u001b[1;33m]\u001b[0m\u001b[1;33m)\u001b[0m \u001b[1;33m*\u001b[0m \u001b[1;36m60\u001b[0m\u001b[1;33m)\u001b[0m \u001b[1;33m+\u001b[0m \u001b[0mint\u001b[0m\u001b[1;33m(\u001b[0m\u001b[0mhrMin\u001b[0m\u001b[1;33m[\u001b[0m\u001b[1;36m1\u001b[0m\u001b[1;33m]\u001b[0m\u001b[1;33m)\u001b[0m\u001b[1;33m\u001b[0m\u001b[1;33m\u001b[0m\u001b[0m\n\u001b[0m\u001b[0;32m     28\u001b[0m     \u001b[0mprint\u001b[0m\u001b[1;33m(\u001b[0m\u001b[0mtotalMin\u001b[0m\u001b[1;33m)\u001b[0m\u001b[1;33m\u001b[0m\u001b[1;33m\u001b[0m\u001b[0m\n\u001b[0;32m     29\u001b[0m     \u001b[0mtimeList\u001b[0m\u001b[1;33m[\u001b[0m\u001b[0midx\u001b[0m\u001b[1;33m]\u001b[0m \u001b[1;33m=\u001b[0m \u001b[0mtotalMin\u001b[0m\u001b[1;33m\u001b[0m\u001b[1;33m\u001b[0m\u001b[0m\n",
      "\u001b[1;31mValueError\u001b[0m: invalid literal for int() with base 10: 'N/A'"
     ]
    }
   ],
   "source": [
    "import requests\n",
    "from bs4 import BeautifulSoup as bs\n",
    "import json\n",
    "import math\n",
    "\n",
    "inputZip = 20019\n",
    "searchRad = 10\n",
    "\n",
    "\n",
    "if(searchRad > 50):\n",
    "    searchRad = 50\n",
    "\n",
    "URL = (\"https://www.hospitalstats.org/ER-Wait-Time/search?zip=\" + \n",
    "        str(inputZip) + \"&distance=\" + str(searchRad) + \"#\")\n",
    "page = requests.get(URL)\n",
    "\n",
    "soup = bs(page.content, 'html.parser')\n",
    "#results = soup.find(method='post')\n",
    "timeResults = soup.findAll(\"td\", class_=\"bigstat\")\n",
    "timeList = [None] * len(timeResults)\n",
    "\n",
    "#print(timeResults)\n",
    "for idx, timeElem in enumerate(timeResults):\n",
    "    print(timeElem, end='\\n'*2)\n",
    "    timeText = timeElem.get_text().replace('h', '')\n",
    "    hrMin = timeText.replace('m', '').split(' ')\n",
    "    totalMin = (int(hrMin[0]) * 60) + int(hrMin[1]) \n",
    "    print(totalMin)\n",
    "    timeList[idx] = totalMin\n",
    "    #print(timeText.split('h'))\n",
    "    print(timeText)\n",
    "    #print(type(timeElem))\n",
    "#print(page)\n",
    "\n",
    "\n",
    "\n"
   ]
  },
  {
   "cell_type": "code",
   "execution_count": 146,
   "metadata": {},
   "outputs": [
    {
     "name": "stdout",
     "output_type": "stream",
     "text": [
      "Fort Washington Hospital is a 175 minutes wait\n",
      "\n",
      "Sibley Memorial Hospital is a 184 minutes wait\n",
      "\n",
      "George Washington Univ Hospital is a 211 minutes wait\n",
      "\n",
      "Prince Georges Hospital Center is a 215 minutes wait\n",
      "\n",
      "Southern Maryland Hospital Center is a 216 minutes wait\n",
      "\n",
      "Washington Adventist Hospital is a 227 minutes wait\n",
      "\n",
      "Georgetown University Hospital is a 230 minutes wait\n",
      "\n",
      "Holy Cross Hospital is a 236 minutes wait\n",
      "\n",
      "Washington Hospital Center is a 256 minutes wait\n",
      "\n",
      "Providence Hospital is a 308 minutes wait\n",
      "\n",
      "Doctors'  Community Hospital is a 322 minutes wait\n",
      "\n",
      "United Medical Center is a 344 minutes wait\n",
      "\n",
      "Children's Hospital Nmc is a None minutes wait\n",
      "\n"
     ]
    },
    {
     "ename": "AttributeError",
     "evalue": "'NoneType' object has no attribute 'get_text'",
     "output_type": "error",
     "traceback": [
      "\u001b[1;31m---------------------------------------------------------------------------\u001b[0m",
      "\u001b[1;31mAttributeError\u001b[0m                            Traceback (most recent call last)",
      "\u001b[1;32m<ipython-input-146-9d7bbf7693de>\u001b[0m in \u001b[0;36m<module>\u001b[1;34m\u001b[0m\n\u001b[0;32m      9\u001b[0m     \u001b[0mlink\u001b[0m \u001b[1;33m=\u001b[0m \u001b[0mlocForm\u001b[0m\u001b[1;33m.\u001b[0m\u001b[0mfind\u001b[0m\u001b[1;33m(\u001b[0m\u001b[1;34m'a'\u001b[0m\u001b[1;33m)\u001b[0m\u001b[1;33m\u001b[0m\u001b[1;33m\u001b[0m\u001b[0m\n\u001b[0;32m     10\u001b[0m     \u001b[0mstateName\u001b[0m \u001b[1;33m=\u001b[0m \u001b[0mlocForm\u001b[0m\u001b[1;33m.\u001b[0m\u001b[0mfind\u001b[0m\u001b[1;33m(\u001b[0m\u001b[1;34m\"input\"\u001b[0m\u001b[1;33m,\u001b[0m \u001b[1;33m{\u001b[0m\u001b[1;34m\"name\"\u001b[0m\u001b[1;33m:\u001b[0m\u001b[1;34m\"state\"\u001b[0m\u001b[1;33m}\u001b[0m\u001b[1;33m)\u001b[0m\u001b[1;33m.\u001b[0m\u001b[0mget\u001b[0m\u001b[1;33m(\u001b[0m\u001b[1;34m\"value\"\u001b[0m\u001b[1;33m)\u001b[0m\u001b[1;33m\u001b[0m\u001b[1;33m\u001b[0m\u001b[0m\n\u001b[1;32m---> 11\u001b[1;33m     \u001b[0mlocationName\u001b[0m \u001b[1;33m=\u001b[0m \u001b[0mlink\u001b[0m\u001b[1;33m.\u001b[0m\u001b[0mget_text\u001b[0m\u001b[1;33m(\u001b[0m\u001b[1;33m)\u001b[0m\u001b[1;33m\u001b[0m\u001b[1;33m\u001b[0m\u001b[0m\n\u001b[0m\u001b[0;32m     12\u001b[0m     \u001b[0mlocationList\u001b[0m\u001b[1;33m[\u001b[0m\u001b[0midx\u001b[0m\u001b[1;33m]\u001b[0m \u001b[1;33m=\u001b[0m \u001b[0mlocationName\u001b[0m\u001b[1;33m\u001b[0m\u001b[1;33m\u001b[0m\u001b[0m\n\u001b[0;32m     13\u001b[0m     \u001b[0mlocationState\u001b[0m\u001b[1;33m[\u001b[0m\u001b[0midx\u001b[0m\u001b[1;33m]\u001b[0m \u001b[1;33m=\u001b[0m \u001b[0mstateName\u001b[0m\u001b[1;33m\u001b[0m\u001b[1;33m\u001b[0m\u001b[0m\n",
      "\u001b[1;31mAttributeError\u001b[0m: 'NoneType' object has no attribute 'get_text'"
     ]
    }
   ],
   "source": [
    "locationResults = soup.findAll(\"form\", method=\"post\")\n",
    "locationList = [None] * len(timeResults) #Just the hospital name\n",
    "locationState = [None] * len(timeResults) #State of residence\n",
    "#print(locationResults, end='\\n'*4)\n",
    "\n",
    "#print(\"Hospital results within \" + str(searchRad) + \" miles of Zip Code: \" + str(inputZip), end='\\n' * 2)\n",
    "\n",
    "for idx, locForm in enumerate(locationResults):\n",
    "    link = locForm.find('a')\n",
    "    stateName = locForm.find(\"input\", {\"name\":\"state\"}).get(\"value\")\n",
    "    locationName = link.get_text()\n",
    "    locationList[idx] = locationName\n",
    "    locationState[idx] = stateName\n",
    "    #print(locForm, end='\\n')\n",
    "    print(locationName + \" is a \" + str(timeList[idx]) + \" minutes wait\", end='\\n'*2)\n",
    "    \n"
   ]
  },
  {
   "cell_type": "code",
   "execution_count": 151,
   "metadata": {},
   "outputs": [
    {
     "name": "stdout",
     "output_type": "stream",
     "text": [
      "http://www.mapquestapi.com/directions/v2/route?key=HHtMzHkqE6RLT3EA3RA1TuZ8G2rVyvt4&from=George+Washington+Univ+Hospital,+DC&to=Fort+Washington+Hospital,+MD\n",
      "http://www.mapquestapi.com/directions/v2/route?key=HHtMzHkqE6RLT3EA3RA1TuZ8G2rVyvt4&from=George+Washington+Univ+Hospital,+DC&to=Sibley+Memorial+Hospital,+DC\n",
      "http://www.mapquestapi.com/directions/v2/route?key=HHtMzHkqE6RLT3EA3RA1TuZ8G2rVyvt4&from=George+Washington+Univ+Hospital,+DC&to=George+Washington+Univ+Hospital,+DC\n",
      "http://www.mapquestapi.com/directions/v2/route?key=HHtMzHkqE6RLT3EA3RA1TuZ8G2rVyvt4&from=George+Washington+Univ+Hospital,+DC&to=Prince+Georges+Hospital+Center,+MD\n",
      "http://www.mapquestapi.com/directions/v2/route?key=HHtMzHkqE6RLT3EA3RA1TuZ8G2rVyvt4&from=George+Washington+Univ+Hospital,+DC&to=Southern+Maryland+Hospital+Center,+MD\n",
      "http://www.mapquestapi.com/directions/v2/route?key=HHtMzHkqE6RLT3EA3RA1TuZ8G2rVyvt4&from=George+Washington+Univ+Hospital,+DC&to=Washington+Adventist+Hospital,+MD\n",
      "http://www.mapquestapi.com/directions/v2/route?key=HHtMzHkqE6RLT3EA3RA1TuZ8G2rVyvt4&from=George+Washington+Univ+Hospital,+DC&to=Georgetown+University+Hospital,+DC\n",
      "http://www.mapquestapi.com/directions/v2/route?key=HHtMzHkqE6RLT3EA3RA1TuZ8G2rVyvt4&from=George+Washington+Univ+Hospital,+DC&to=Holy+Cross+Hospital,+MD\n",
      "http://www.mapquestapi.com/directions/v2/route?key=HHtMzHkqE6RLT3EA3RA1TuZ8G2rVyvt4&from=George+Washington+Univ+Hospital,+DC&to=Washington+Hospital+Center,+DC\n",
      "http://www.mapquestapi.com/directions/v2/route?key=HHtMzHkqE6RLT3EA3RA1TuZ8G2rVyvt4&from=George+Washington+Univ+Hospital,+DC&to=Providence+Hospital,+DC\n",
      "http://www.mapquestapi.com/directions/v2/route?key=HHtMzHkqE6RLT3EA3RA1TuZ8G2rVyvt4&from=George+Washington+Univ+Hospital,+DC&to=Doctors'++Community+Hospital,+MD\n",
      "http://www.mapquestapi.com/directions/v2/route?key=HHtMzHkqE6RLT3EA3RA1TuZ8G2rVyvt4&from=George+Washington+Univ+Hospital,+DC&to=United+Medical+Center,+DC\n",
      "http://www.mapquestapi.com/directions/v2/route?key=HHtMzHkqE6RLT3EA3RA1TuZ8G2rVyvt4&from=George+Washington+Univ+Hospital,+DC&to=Children's+Hospital+Nmc,+DC\n"
     ]
    }
   ],
   "source": [
    "\n",
    "\n",
    "apiKey = 'HHtMzHkqE6RLT3EA3RA1TuZ8G2rVyvt4'\n",
    "requestStart = (\"http://www.mapquestapi.com/directions/v2/route?\" \n",
    "                      \"key=HHtMzHkqE6RLT3EA3RA1TuZ8G2rVyvt4&from=\")\n",
    "\n",
    "requestFrom = (\"George+Washington+Univ+Hospital,+DC&\")\n",
    "\n",
    "for idx, hospital in enumerate(locationList) :\n",
    "    hName = locationList[idx]\n",
    "    hWait = timeList[idx]\n",
    "    requestTo = (\"to=\" + hName.replace(' ' , '+') + \",+\" + locationState[idx])\n",
    "    print(requestStart + requestFrom + requestTo)\n",
    "\n",
    "output = requests.get(\"http://www.mapquestapi.com/directions/v2/route?\" \n",
    "                      \"key=HHtMzHkqE6RLT3EA3RA1TuZ8G2rVyvt4&from=\" \n",
    "                      \"George+Washington+Univ+Hospital,+DC&\"\n",
    "                      \"to=Fort+Washington+Hospital,+MD\")\n",
    "\n",
    "#jOutput = json.loads(output.content)\n",
    "#distance = jOutput[\"route\"]['distance']\n",
    "#print(jOutput)\n",
    "#print(\"From George Washington University to Fort Washington Hospital is \" + str(distance) + \n",
    "    # \" miles there is a \" + str(timeList[0]) + \" minute wait for the ER there\")"
   ]
  }
 ],
 "metadata": {
  "kernelspec": {
   "display_name": "Python 3",
   "language": "python",
   "name": "python3"
  },
  "language_info": {
   "codemirror_mode": {
    "name": "ipython",
    "version": 3
   },
   "file_extension": ".py",
   "mimetype": "text/x-python",
   "name": "python",
   "nbconvert_exporter": "python",
   "pygments_lexer": "ipython3",
   "version": "3.7.3"
  }
 },
 "nbformat": 4,
 "nbformat_minor": 2
}
